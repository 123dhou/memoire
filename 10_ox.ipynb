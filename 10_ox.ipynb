{
  "nbformat": 4,
  "nbformat_minor": 0,
  "metadata": {
    "colab": {
      "provenance": []
    },
    "kernelspec": {
      "name": "python3",
      "display_name": "Python 3"
    },
    "language_info": {
      "name": "python"
    }
  },
  "cells": [
    {
      "cell_type": "markdown",
      "source": [
        "Importation des bibliothèques nécessaires"
      ],
      "metadata": {
        "id": "5IEdUN4J2bWF"
      }
    },
    {
      "cell_type": "code",
      "execution_count": null,
      "metadata": {
        "id": "AbUQ4HRxZHnz"
      },
      "outputs": [],
      "source": [
        "import random\n",
        "import math\n",
        "import matplotlib.pyplot as plt\n",
        "import itertools\n",
        "import numpy as np"
      ]
    },
    {
      "cell_type": "markdown",
      "source": [
        "Fonction pour générer des valeurs aléatoires"
      ],
      "metadata": {
        "id": "-4jGCa1w4AFZ"
      }
    },
    {
      "cell_type": "code",
      "source": [
        "def generate_random(x):\n",
        "  test = []\n",
        "  for _ in range(x):\n",
        "    random_number = random.randint(1, 10) # genere des nums entre 1 et 10\n",
        "    test.append(random_number)\n",
        "  return test"
      ],
      "metadata": {
        "id": "xqqaNU3OZtzX"
      },
      "execution_count": null,
      "outputs": []
    },
    {
      "cell_type": "markdown",
      "source": [
        "Fonction pour générer des valeurs aléatoires"
      ],
      "metadata": {
        "id": "vTqSnl9T4Ejw"
      }
    },
    {
      "cell_type": "code",
      "source": [
        "def generate_random_client(x):\n",
        "    test = []\n",
        "    while len(test) < x:\n",
        "        random_number = random.randint(1, 10)\n",
        "        if random_number not in test:\n",
        "            test.append(random_number)\n",
        "    return test"
      ],
      "metadata": {
        "id": "ryZrJZVtZ0fY"
      },
      "execution_count": null,
      "outputs": []
    },
    {
      "cell_type": "markdown",
      "source": [
        "Fonction pour générer la population avec un taille donnée"
      ],
      "metadata": {
        "id": "OWqxZxfQ4wba"
      }
    },
    {
      "cell_type": "code",
      "source": [
        "def generate_population(clients, population_size):\n",
        "    population = []\n",
        "    for _ in range(population_size):\n",
        "        random.shuffle(clients)  # Mélange aléatoire des coordonnées des clients\n",
        "        population.append(list(clients))  # Ajout d'un individu à la population\n",
        "    return population"
      ],
      "metadata": {
        "id": "dIuLQFGQaI-l"
      },
      "execution_count": null,
      "outputs": []
    },
    {
      "cell_type": "markdown",
      "source": [
        "Fonction pour calculer la distance entre paires de clients"
      ],
      "metadata": {
        "id": "NSUYt-rv6aFy"
      }
    },
    {
      "cell_type": "code",
      "source": [
        "def calculate_distance(x1, y1, x2, y2):\n",
        "    return math.sqrt((x2 - x1) ** 2 + (y2 - y1) ** 2)"
      ],
      "metadata": {
        "id": "1w9uF5R3icGW"
      },
      "execution_count": null,
      "outputs": []
    },
    {
      "cell_type": "markdown",
      "source": [
        "Fonction pour calculer la matrice de distance entre les clients"
      ],
      "metadata": {
        "id": "sxe_T9GB7Bz0"
      }
    },
    {
      "cell_type": "code",
      "source": [
        "def calculate_distance_matrix(client_coordinates):\n",
        "    num_clients = len(client_coordinates)\n",
        "    distance_matrix = [[0] * num_clients for _ in range(num_clients)]\n",
        "\n",
        "    for i in range(num_clients):\n",
        "        for j in range(num_clients):\n",
        "            if i != j:\n",
        "                x1, y1 = client_coordinates[i]\n",
        "                x2, y2 = client_coordinates[j]\n",
        "                distance = calculate_distance(x1, y1, x2, y2)\n",
        "                distance_matrix[i][j] = distance\n",
        "\n",
        "    return distance_matrix"
      ],
      "metadata": {
        "id": "PV-QiwEZiVFz"
      },
      "execution_count": null,
      "outputs": []
    },
    {
      "cell_type": "markdown",
      "source": [
        "Fonction pour calculer la matrice de distance de la consommation d'énergie"
      ],
      "metadata": {
        "id": "Uz1--Xag7Qe5"
      }
    },
    {
      "cell_type": "code",
      "source": [
        "def calculate_energy_consumption(speed, consumption_rate, distance_matrix):\n",
        "    energy_matrix = []\n",
        "\n",
        "    for i in range(len(distance_matrix)):\n",
        "        energy_row = [distance * consumption_rate / speed for distance in distance_matrix[i]]\n",
        "        energy_matrix.append(energy_row)\n",
        "\n",
        "    return energy_matrix\n"
      ],
      "metadata": {
        "id": "s_qoSOQjauw-"
      },
      "execution_count": null,
      "outputs": []
    },
    {
      "cell_type": "markdown",
      "source": [
        "Evaluation de la population"
      ],
      "metadata": {
        "id": "PTP8xWJc4-4y"
      }
    },
    {
      "cell_type": "code",
      "source": [
        "def evaluate_population(client_coordinates, speed, consumption_rate, population):\n",
        "    distances = []\n",
        "    energies = []\n",
        "    fitness_scores = []\n",
        "\n",
        "    distance_matrix = calculate_distance_matrix(client_coordinates)\n",
        "    energy_matrix = calculate_energy_consumption(speed, consumption_rate, distance_matrix)\n",
        "\n",
        "    for individual in population:\n",
        "\n",
        "        energy = sum(energy_matrix[i][j] for i, j in zip(individual[:-1], individual[1:]))\n",
        "        fitness_score = 1/(energy)\n",
        "        energies.append(energy)\n",
        "        fitness_scores.append(fitness_score)\n",
        "\n",
        "    return  energies, fitness_scores"
      ],
      "metadata": {
        "id": "E5C5tcA7bvgA"
      },
      "execution_count": null,
      "outputs": []
    },
    {
      "cell_type": "markdown",
      "source": [
        "Evaluation de chaque individu (fitness score)"
      ],
      "metadata": {
        "id": "GeI-5U5K47dE"
      }
    },
    {
      "cell_type": "code",
      "source": [
        "def evaluate_fitness(individual, client_coordinates, speed, consumption_rate):\n",
        "\n",
        "    distance_matrix = calculate_distance_matrix(client_coordinates)\n",
        "    energy_matrix = calculate_energy_consumption(speed, consumption_rate, distance_matrix)\n",
        "\n",
        "\n",
        "    energy = sum(energy_matrix[individual[i]][individual[i+1]] for i in range(len(individual) - 1))\n",
        "\n",
        "    # Fitness score is a combination of distance and energy\n",
        "    fitness_score = 1/(energy)\n",
        "\n",
        "    return fitness_score\n"
      ],
      "metadata": {
        "id": "0-mVSaB5hylf"
      },
      "execution_count": null,
      "outputs": []
    },
    {
      "cell_type": "markdown",
      "source": [
        "Séléctionner les parents"
      ],
      "metadata": {
        "id": "0y5Sr2YH5H3e"
      }
    },
    {
      "cell_type": "code",
      "source": [
        "\n",
        "def select_parents(population, num_parents):\n",
        "    parents = random.sample(population, num_parents)\n",
        "    return parents"
      ],
      "metadata": {
        "id": "DmUcmrObcTGc"
      },
      "execution_count": null,
      "outputs": []
    },
    {
      "cell_type": "markdown",
      "source": [
        "croisement des meilleurs parents pour générer les child (croisement par ordre)"
      ],
      "metadata": {
        "id": "1hENYJ575QyV"
      }
    },
    {
      "cell_type": "code",
      "source": [
        "import random\n",
        "import time\n",
        "\n",
        "def order_crossover(parents, crossover_rate):\n",
        "    \"\"\"\n",
        "    Performs Order Crossover (OX) on a pair of parent solutions.\n",
        "\n",
        "    Args:\n",
        "      parents: A tuple containing two parent solutions.\n",
        "      crossover_rate: The probability of crossover occurring.\n",
        "\n",
        "    Returns:\n",
        "      A tuple containing two offspring solutions.\n",
        "    \"\"\"\n",
        "    start_time = time.time()\n",
        "    parent1, parent2 = parents\n",
        "\n",
        "    # Check if crossover should occur based on crossover_rate\n",
        "    if random.random() > crossover_rate:\n",
        "        return parent1, parent2\n",
        "\n",
        "    # Choose two cut points randomly.\n",
        "    cut_point1, cut_point2 = sorted(random.sample(range(len(parent1)), 2))\n",
        "\n",
        "    # Copy the middle segment from the first parent to the offspring.\n",
        "    offspring1 = parent1[cut_point1:cut_point2]\n",
        "    offspring2 = parent2[cut_point1:cut_point2]\n",
        "\n",
        "    # Fill the remaining positions in the offspring with genes from the second parent.\n",
        "    for i in range(len(parent1)):\n",
        "        if cut_point1 <= i < cut_point2:\n",
        "            continue\n",
        "        gene = parent2[i]\n",
        "        while gene in offspring1:\n",
        "            gene = parent2[parent1.index(gene)]\n",
        "        offspring1.append(gene)\n",
        "\n",
        "    # Repeat for the second offspring.\n",
        "    for i in range(len(parent1)):\n",
        "        if cut_point1 <= i < cut_point2:\n",
        "            continue\n",
        "        gene = parent1[i]\n",
        "        while gene in offspring2:\n",
        "            gene = parent1[parent2.index(gene)]\n",
        "        offspring2.append(gene)\n",
        "\n",
        "    end_time = time.time()\n",
        "    execution_time = (end_time - start_time) * 1000  # Convertir en millisecondes\n",
        "    print(\"Temps d'exécution de order crossover:\", execution_time, \"millisecondes\")\n",
        "    return offspring1, offspring2\n",
        "\n"
      ],
      "metadata": {
        "id": "qR0D2BJBcjqm"
      },
      "execution_count": null,
      "outputs": []
    },
    {
      "cell_type": "markdown",
      "source": [
        "Fonction de mutation qui permet de changer les position des gènes trouver dans child de manière aléatoire"
      ],
      "metadata": {
        "id": "jtSSiDYW5Z8Y"
      }
    },
    {
      "cell_type": "code",
      "source": [
        "def mutation(children, mutation_rate):\n",
        "    mutated_children = []\n",
        "\n",
        "    for child in children:\n",
        "        if random.random() <= mutation_rate:\n",
        "            mutated_child = list(child)  # Convertir en une liste modifiable\n",
        "\n",
        "            # Générer deux positions de gènes uniques\n",
        "            gene_pos1, gene_pos2 = random.sample(range(len(child)), 2)\n",
        "\n",
        "            # Échanger les positions des gènes\n",
        "            mutated_child[gene_pos1], mutated_child[gene_pos2] = mutated_child[gene_pos2], mutated_child[gene_pos1]\n",
        "\n",
        "            mutated_children.append(mutated_child)\n",
        "        else:\n",
        "            mutated_children.append(child)\n",
        "\n",
        "    return mutated_children"
      ],
      "metadata": {
        "id": "ourN1d-Uc0-9"
      },
      "execution_count": null,
      "outputs": []
    },
    {
      "cell_type": "markdown",
      "source": [
        "Données (paramètres d'entrées)"
      ],
      "metadata": {
        "id": "A8rRUpji7oSR"
      }
    },
    {
      "cell_type": "code",
      "source": [
        "clients = generate_random_client(10) # les indices des clients\n",
        "population_size = 50 # taille de la population\n",
        "client_coordinates = {0: (0, 0), 1: (16, 68), 2: (80, 81), 3: (83, 44), 4: (62, 13), 5: (70, 8), 6: (52, 28),  7: (82, 84), 8: (50, 14), 9: (70, 77), 10: (8, 9)}\n",
        "demands = [4, 5, 18, 46, 25, 56, 13, 23, 16, 10 ] # les demandes des clients\n",
        "capacity = (2/3) * sum (demands) # capacité maximale\n",
        "k = 3\n",
        "num_parents = 2 # nombre de parents choisi\n",
        "crossover_rate = 0.8 # taux de croisement\n",
        "mutation_rate = 0.2 # taux de mutation\n",
        "num_generations = 100 # nombre de génération\n",
        "speed = 80 # vitesse\n",
        "consumption_rate = 0.1  # consommation spécifique en kWh/km"
      ],
      "metadata": {
        "id": "KK1bAaNids8u"
      },
      "execution_count": null,
      "outputs": []
    },
    {
      "cell_type": "code",
      "source": [
        "population = generate_population(clients, population_size)\n",
        "# Afficher chaque individu\n",
        "for individual in population:\n",
        "    print(individual)\n",
        "\n",
        "distance_matrix = calculate_distance_matrix(client_coordinates)\n",
        "for row in distance_matrix:\n",
        "  print(row)\n",
        "\n",
        "energy_matrix = calculate_energy_consumption(speed, consumption_rate, distance_matrix)\n",
        "for row in energy_matrix:\n",
        "  print(row)\n",
        "\n",
        "energies, fitness_scores = evaluate_population(client_coordinates, speed, consumption_rate, population)\n",
        "\n",
        "for i in range(len(population)):\n",
        "    print(f\"Individu {i+1} -  Consommation d'énergie : {energies[i]}, Fitness Score : {fitness_scores[i]}\")\n",
        "\n",
        "parents = select_parents(population, num_parents)\n",
        "for parent in parents:\n",
        "    print(\"Parent:\", parent )\n",
        "\n",
        "children  = order_crossover(parents, crossover_rate)\n",
        "for child in children:\n",
        "    print(\"child:\", child)\n",
        "\n",
        "mutated_children = mutation(children, mutation_rate)\n",
        "for child_mutate in mutated_children:\n",
        "  print(\"child mutate:\", child_mutate)"
      ],
      "metadata": {
        "id": "ANxkmw74d0h2",
        "colab": {
          "base_uri": "https://localhost:8080/"
        },
        "outputId": "8581a456-7dd7-4b50-dd3b-c2055e7c7b2a"
      },
      "execution_count": null,
      "outputs": [
        {
          "output_type": "stream",
          "name": "stdout",
          "text": [
            "[3, 6, 5, 4, 2, 1, 9, 7, 8, 10]\n",
            "[3, 5, 9, 10, 8, 2, 4, 7, 1, 6]\n",
            "[7, 2, 4, 3, 10, 1, 8, 6, 5, 9]\n",
            "[6, 4, 5, 1, 8, 2, 10, 9, 3, 7]\n",
            "[2, 3, 8, 5, 1, 10, 4, 6, 9, 7]\n",
            "[7, 6, 9, 2, 10, 3, 8, 5, 1, 4]\n",
            "[8, 2, 10, 3, 6, 5, 1, 7, 9, 4]\n",
            "[7, 4, 9, 5, 2, 8, 3, 10, 1, 6]\n",
            "[3, 9, 7, 2, 6, 10, 4, 8, 5, 1]\n",
            "[6, 2, 5, 3, 1, 8, 4, 7, 10, 9]\n",
            "[3, 10, 1, 5, 2, 7, 4, 9, 6, 8]\n",
            "[9, 7, 2, 8, 10, 5, 3, 6, 4, 1]\n",
            "[5, 9, 1, 8, 3, 7, 2, 4, 6, 10]\n",
            "[10, 1, 4, 6, 5, 7, 3, 8, 9, 2]\n",
            "[7, 6, 9, 2, 8, 1, 5, 10, 3, 4]\n",
            "[1, 9, 7, 3, 4, 2, 5, 6, 10, 8]\n",
            "[8, 6, 1, 9, 3, 5, 4, 2, 10, 7]\n",
            "[3, 8, 5, 7, 1, 9, 10, 2, 4, 6]\n",
            "[8, 2, 5, 9, 10, 6, 4, 3, 7, 1]\n",
            "[5, 2, 6, 10, 7, 8, 4, 3, 1, 9]\n",
            "[1, 7, 9, 2, 5, 8, 3, 10, 4, 6]\n",
            "[5, 7, 4, 3, 9, 1, 10, 8, 2, 6]\n",
            "[6, 4, 2, 3, 1, 10, 5, 8, 9, 7]\n",
            "[7, 8, 5, 2, 3, 6, 1, 9, 4, 10]\n",
            "[4, 8, 6, 2, 5, 10, 3, 7, 9, 1]\n",
            "[3, 8, 7, 4, 2, 5, 10, 9, 1, 6]\n",
            "[6, 10, 7, 5, 1, 2, 9, 4, 3, 8]\n",
            "[2, 5, 6, 8, 10, 1, 3, 9, 7, 4]\n",
            "[3, 5, 1, 7, 6, 4, 2, 10, 8, 9]\n",
            "[9, 3, 2, 1, 8, 10, 5, 4, 6, 7]\n",
            "[5, 9, 1, 10, 2, 8, 6, 3, 4, 7]\n",
            "[4, 8, 9, 1, 10, 5, 2, 6, 7, 3]\n",
            "[10, 6, 3, 2, 9, 7, 1, 4, 8, 5]\n",
            "[8, 1, 6, 7, 4, 5, 10, 3, 2, 9]\n",
            "[1, 5, 7, 8, 3, 9, 4, 6, 2, 10]\n",
            "[9, 5, 1, 7, 4, 10, 3, 8, 2, 6]\n",
            "[4, 5, 8, 10, 6, 1, 3, 7, 2, 9]\n",
            "[7, 4, 6, 10, 3, 2, 8, 9, 5, 1]\n",
            "[1, 3, 10, 9, 8, 5, 2, 6, 4, 7]\n",
            "[3, 9, 4, 2, 8, 6, 5, 7, 1, 10]\n",
            "[1, 3, 5, 4, 7, 10, 9, 8, 6, 2]\n",
            "[4, 10, 9, 2, 3, 8, 6, 7, 1, 5]\n",
            "[5, 9, 1, 7, 2, 3, 10, 4, 6, 8]\n",
            "[7, 5, 4, 3, 9, 8, 2, 10, 1, 6]\n",
            "[9, 8, 2, 1, 7, 4, 6, 10, 5, 3]\n",
            "[4, 10, 1, 6, 3, 5, 7, 2, 8, 9]\n",
            "[2, 10, 3, 8, 1, 9, 6, 4, 5, 7]\n",
            "[2, 4, 7, 5, 8, 3, 6, 10, 9, 1]\n",
            "[3, 2, 10, 5, 7, 1, 6, 9, 4, 8]\n",
            "[10, 8, 3, 2, 1, 6, 7, 9, 4, 5]\n",
            "[0, 69.85699678629192, 113.84638773364749, 93.94147114027967, 63.34824385884742, 70.45565981523414, 59.0592922409336, 117.38824472663352, 51.92301994298868, 104.06248123122954, 12.041594578792296]\n",
            "[69.85699678629192, 0, 65.30696746902278, 71.16881339463234, 71.7007670809734, 80.72174428244226, 53.81449618829484, 67.91170738539859, 63.812224534175265, 54.74486277268398, 59.53990258641679]\n",
            "[113.84638773364749, 65.30696746902278, 0, 37.12142238654117, 70.3420215802759, 73.68174807915459, 59.941638282582836, 3.605551275463989, 73.40980860893181, 10.770329614269007, 101.82337649086284]\n",
            "[93.94147114027967, 71.16881339463234, 37.12142238654117, 0, 37.44329045369811, 38.27531841800928, 34.88552708502482, 40.01249804748511, 44.598206241955516, 35.4682957019364, 82.76472678623425]\n",
            "[63.34824385884742, 71.7007670809734, 70.3420215802759, 37.44329045369811, 0, 9.433981132056603, 18.027756377319946, 73.76313442364011, 12.041594578792296, 64.4980619863884, 54.147945482723536]\n",
            "[70.45565981523414, 80.72174428244226, 73.68174807915459, 38.27531841800928, 9.433981132056603, 0, 26.90724809414742, 76.94153624668537, 20.8806130178211, 69.0, 62.00806399170998]\n",
            "[59.0592922409336, 53.81449618829484, 59.941638282582836, 34.88552708502482, 18.027756377319946, 26.90724809414742, 0, 63.52952069707436, 14.142135623730951, 52.20153254455275, 47.92702786528704]\n",
            "[117.38824472663352, 67.91170738539859, 3.605551275463989, 40.01249804748511, 73.76313442364011, 76.94153624668537, 63.52952069707436, 0, 76.96752561957543, 13.892443989449804, 105.3612832116238]\n",
            "[51.92301994298868, 63.812224534175265, 73.40980860893181, 44.598206241955516, 12.041594578792296, 20.8806130178211, 14.142135623730951, 76.96752561957543, 0, 66.09841147864296, 42.2965719651132]\n",
            "[104.06248123122954, 54.74486277268398, 10.770329614269007, 35.4682957019364, 64.4980619863884, 69.0, 52.20153254455275, 13.892443989449804, 66.09841147864296, 0, 92.02173656261873]\n",
            "[12.041594578792296, 59.53990258641679, 101.82337649086284, 82.76472678623425, 54.147945482723536, 62.00806399170998, 47.92702786528704, 105.3612832116238, 42.2965719651132, 92.02173656261873, 0]\n",
            "[0.0, 0.0873212459828649, 0.14230798466705935, 0.1174268389253496, 0.07918530482355927, 0.08806957476904267, 0.073824115301167, 0.14673530590829192, 0.06490377492873586, 0.13007810153903693, 0.01505199322349037]\n",
            "[0.0873212459828649, 0.0, 0.08163370933627848, 0.08896101674329042, 0.08962595885121676, 0.10090218035305283, 0.06726812023536856, 0.08488963423174824, 0.07976528066771908, 0.06843107846585497, 0.07442487823302099]\n",
            "[0.14230798466705935, 0.08163370933627848, 0.0, 0.04640177798317646, 0.08792752697534487, 0.09210218509894323, 0.07492704785322854, 0.004506939094329987, 0.09176226076116477, 0.013462912017836259, 0.12727922061357858]\n",
            "[0.1174268389253496, 0.08896101674329042, 0.04640177798317646, 0.0, 0.04680411306712264, 0.0478441480225116, 0.043606908856281025, 0.05001562255935639, 0.0557477578024444, 0.044335369627420504, 0.10345590848279282]\n",
            "[0.07918530482355927, 0.08962595885121676, 0.08792752697534487, 0.04680411306712264, 0.0, 0.011792476415070755, 0.022534695471649935, 0.09220391802955015, 0.01505199322349037, 0.08062257748298549, 0.06768493185340443]\n",
            "[0.08806957476904267, 0.10090218035305283, 0.09210218509894323, 0.0478441480225116, 0.011792476415070755, 0.0, 0.03363406011768428, 0.09617692030835671, 0.026100766272276376, 0.08625000000000001, 0.07751007998963748]\n",
            "[0.073824115301167, 0.06726812023536856, 0.07492704785322854, 0.043606908856281025, 0.022534695471649935, 0.03363406011768428, 0.0, 0.07941190087134295, 0.017677669529663688, 0.06525191568069094, 0.059908784831608795]\n",
            "[0.14673530590829192, 0.08488963423174824, 0.004506939094329987, 0.05001562255935639, 0.09220391802955015, 0.09617692030835671, 0.07941190087134295, 0.0, 0.09620940702446928, 0.017365554986812255, 0.13170160401452974]\n",
            "[0.06490377492873586, 0.07976528066771908, 0.09176226076116477, 0.0557477578024444, 0.01505199322349037, 0.026100766272276376, 0.017677669529663688, 0.09620940702446928, 0.0, 0.0826230143483037, 0.05287071495639151]\n",
            "[0.13007810153903693, 0.06843107846585497, 0.013462912017836259, 0.044335369627420504, 0.08062257748298549, 0.08625000000000001, 0.06525191568069094, 0.017365554986812255, 0.0826230143483037, 0.0, 0.11502717070327342]\n",
            "[0.01505199322349037, 0.07442487823302099, 0.12727922061357858, 0.10345590848279282, 0.06768493185340443, 0.07751007998963748, 0.059908784831608795, 0.13170160401452974, 0.05287071495639151, 0.11502717070327342, 0.0]\n",
            "Individu 1 -  Consommation d'énergie : 0.49347143713418734, Fitness Score : 2.0264597396101665\n",
            "Individu 2 -  Consommation d'énergie : 0.7260434939153532, Fitness Score : 1.377327954014538\n",
            "Individu 3 -  Consommation d'énergie : 0.5344463761676784, Fitness Score : 1.871095108120366\n",
            "Individu 4 -  Consommation d'énergie : 0.6434142771722863, Fitness Score : 1.554208595424486\n",
            "Individu 5 -  Consommation d'énergie : 0.47641445863652854, Fitness Score : 2.0990127018015867\n",
            "Individu 6 -  Consommation d'énergie : 0.661238520945232, Fitness Score : 1.5123135877965985\n",
            "Individu 7 -  Consommation d'énergie : 0.6835183058861003, Fitness Score : 1.4630186073855311\n",
            "Individu 8 -  Consommation d'énergie : 0.7438376061262705, Fitness Score : 1.3443794610059612\n",
            "Individu 9 -  Consommation d'énergie : 0.4107835680956241, Fitness Score : 2.434371960485078\n",
            "Individu 10 -  Consommation d'énergie : 0.7375843643565365, Fitness Score : 1.355777112862734\n",
            "Individu 11 -  Consommation d'énergie : 0.63114817198503, Fitness Score : 1.584414000368393\n",
            "Individu 12 -  Consommation d'énergie : 0.44762726098999533, Fitness Score : 2.234001561451706\n",
            "Individu 13 -  Consommation d'énergie : 0.5150876858683084, Fitness Score : 1.9414170197337395\n",
            "Individu 14 -  Consommation d'énergie : 0.5182458197098694, Fitness Score : 1.9295862348872048\n",
            "Individu 15 -  Consommation d'énergie : 0.6583265518913598, Fitness Score : 1.5190029889072814\n",
            "Individu 16 -  Consommation d'énergie : 0.5090596410591189, Fitness Score : 1.9644063668442857\n",
            "Individu 17 -  Consommation d'énergie : 0.6042572138993432, Fitness Score : 1.6549243881539815\n",
            "Individu 18 -  Consommation d'énergie : 0.6841147708445274, Fitness Score : 1.4617430329205112\n",
            "Individu 19 -  Consommation d'énergie : 0.6492944667248675, Fitness Score : 1.5401332542446273\n",
            "Individu 20 -  Consommation d'énergie : 0.674097230322538, Fitness Score : 1.4834655225055977\n",
            "Individu 21 -  Consommation d'énergie : 0.48334434621790795, Fitness Score : 2.0689183763601244\n",
            "Individu 22 -  Consommation d'énergie : 0.6419363013021109, Fitness Score : 1.5577869610607604\n",
            "Individu 23 -  Consommation d'énergie : 0.5238493110035124, Fitness Score : 1.9089459105794166\n",
            "Individu 24 -  Consommation d'énergie : 0.5884277532727599, Fitness Score : 1.6994439749623091\n",
            "Individu 25 -  Consommation d'énergie : 0.5165371401897798, Fitness Score : 1.9359692114928893\n",
            "Individu 26 -  Consommation d'énergie : 0.7524272443248863, Fitness Score : 1.3290321523342072\n",
            "Individu 27 -  Consommation d'énergie : 0.6669605592142154, Fitness Score : 1.4993390331478635\n",
            "Individu 28 -  Consommation d'énergie : 0.5135753673227771, Fitness Score : 1.9471338845803907\n",
            "Individu 29 -  Consommation d'énergie : 0.6862830358439241, Fitness Score : 1.4571247543228243\n",
            "Individu 30 -  Consommation d'énergie : 0.4962560053186872, Fitness Score : 2.0150889647326626\n",
            "Individu 31 -  Consommation d'énergie : 0.6484400475562369, Fitness Score : 1.5421626159097979\n",
            "Individu 32 -  Consommation d'énergie : 0.6144978006431787, Fitness Score : 1.6273451246746957\n",
            "Individu 33 -  Consommation d'énergie : 0.39641429125444655, Fitness Score : 2.5226133922556535\n",
            "Individu 34 -  Consommation d'énergie : 0.5712723746924945, Fitness Score : 1.7504784832949114\n",
            "Individu 35 -  Consommation d'énergie : 0.6987351765371862, Fitness Score : 1.431157373464195\n",
            "Individu 36 -  Consommation d'énergie : 0.7578236393673862, Fitness Score : 1.319568232042454\n",
            "Individu 37 -  Consommation d'énergie : 0.37488735312552907, Fitness Score : 2.6674679518067266\n",
            "Individu 38 -  Consommation d'énergie : 0.6860425402612995, Fitness Score : 1.4576355565634758\n",
            "Individu 39 -  Consommation d'énergie : 0.6979357230033085, Fitness Score : 1.432796698952261\n",
            "Individu 40 -  Consommation d'énergie : 0.6114508972673897, Fitness Score : 1.6354543013495595\n",
            "Individu 41 -  Consommation d'énergie : 0.662758065659422, Fitness Score : 1.5088462167639314\n",
            "Individu 42 -  Consommation d'énergie : 0.5812059353459427, Fitness Score : 1.7205605434927032\n",
            "Individu 43 -  Consommation d'énergie : 0.5018326351126206, Fitness Score : 1.9926962298408142\n",
            "Individu 44 -  Consommation d'énergie : 0.6424663736094073, Fitness Score : 1.556501695772732\n",
            "Individu 45 -  Consommation d'énergie : 0.6409102450224531, Fitness Score : 1.5602808782764377\n",
            "Individu 46 -  Consommation d'énergie : 0.5758981217127418, Fitness Score : 1.736418234923156\n",
            "Individu 47 -  Consommation d'énergie : 0.6304352539081581, Fitness Score : 1.5862057107385052\n",
            "Individu 48 -  Consommation d'énergie : 0.6451308322449907, Fitness Score : 1.5500731789861912\n",
            "Individu 49 -  Consommation d'énergie : 0.6604522397490329, Fitness Score : 1.5141140264434456\n",
            "Individu 50 -  Consommation d'énergie : 0.4931145900698709, Fitness Score : 2.0279262064793233\n",
            "Parent: [8, 6, 1, 9, 3, 5, 4, 2, 10, 7]\n",
            "Parent: [1, 3, 10, 9, 8, 5, 2, 6, 4, 7]\n",
            "Temps d'exécution de order crossover: 0.04863739013671875 millisecondes\n",
            "child: [9, 3, 1, 8, 10, 5, 2, 6, 4, 7]\n",
            "child: [9, 8, 3, 6, 1, 5, 4, 2, 10, 7]\n",
            "child mutate: [9, 3, 1, 8, 10, 5, 2, 6, 4, 7]\n",
            "child mutate: [9, 8, 3, 6, 1, 5, 4, 2, 10, 7]\n"
          ]
        }
      ]
    },
    {
      "cell_type": "markdown",
      "source": [
        "Exécution de l'algorithme génétique (trouver le meilleur individu avec leur score  )"
      ],
      "metadata": {
        "id": "IUW0rk_l5qeG"
      }
    },
    {
      "cell_type": "code",
      "source": [
        "import random\n",
        "\n",
        "def execute_genetic_algorithm(clients, population_size, demands, capacity, num_parents, crossover_rate, mutation_rate, num_generations, speed, consumption_rate):\n",
        "\n",
        "\n",
        "    # Générer la population initiale\n",
        "    population = generate_population(clients, population_size)\n",
        "\n",
        "    # Calculer la matrice des distances\n",
        "    distance_matrix = calculate_distance_matrix(client_coordinates)\n",
        "\n",
        "    # Calculer la matrice de consommation d'énergie\n",
        "    energy_matrix = calculate_energy_consumption(speed, consumption_rate, distance_matrix)\n",
        "\n",
        "    # Boucle sur le nombre de générations\n",
        "    for generation in range(num_generations):\n",
        "        # Évaluer la population\n",
        "        energies, fitness_scores = evaluate_population(client_coordinates, speed, consumption_rate, population)\n",
        "\n",
        "        # Sélectionner les parents\n",
        "        parents = select_parents(population, num_parents)\n",
        "\n",
        "        # Effectuer le croisement\n",
        "        children = order_crossover(parents, crossover_rate)\n",
        "\n",
        "        # Effectuer la mutation\n",
        "        mutated_children = mutation(children, mutation_rate)\n",
        "\n",
        "        # Remplacer la population par les enfants mutés\n",
        "        population = mutated_children\n",
        "\n",
        "    # Évaluer la population finale\n",
        "    energies, fitness_scores = evaluate_population(client_coordinates, speed, consumption_rate, population)\n",
        "\n",
        "    # Trouver l'indice de l'individu avec le score de fitness minimum parmi les enfants mutés\n",
        "    best_index = fitness_scores.index(min(fitness_scores))\n",
        "\n",
        "    # Renvoyer le meilleur individu parmi les enfants mutés\n",
        "    return population[best_index]\n",
        "\n",
        "\n"
      ],
      "metadata": {
        "id": "pNtA4IOyr36c"
      },
      "execution_count": null,
      "outputs": []
    },
    {
      "cell_type": "markdown",
      "source": [
        "Affichage du meilleur individu"
      ],
      "metadata": {
        "id": "kCKsIs3p8B7R"
      }
    },
    {
      "cell_type": "code",
      "source": [
        "best_individual = execute_genetic_algorithm(clients, population_size, demands, capacity, num_parents, crossover_rate, mutation_rate, num_generations, speed, consumption_rate)\n",
        "print(\"Meilleur individu:\", best_individual)\n"
      ],
      "metadata": {
        "colab": {
          "base_uri": "https://localhost:8080/"
        },
        "id": "rV-Zx1var95j",
        "outputId": "d6021db2-b0ed-4de0-a009-a1f5f48439e9"
      },
      "execution_count": null,
      "outputs": [
        {
          "output_type": "stream",
          "name": "stdout",
          "text": [
            "Temps d'exécution de order crossover: 0.031232833862304688 millisecondes\n",
            "Temps d'exécution de order crossover: 0.03170967102050781 millisecondes\n",
            "Temps d'exécution de order crossover: 0.021696090698242188 millisecondes\n",
            "Temps d'exécution de order crossover: 0.022172927856445312 millisecondes\n",
            "Temps d'exécution de order crossover: 0.021696090698242188 millisecondes\n",
            "Temps d'exécution de order crossover: 0.038623809814453125 millisecondes\n",
            "Temps d'exécution de order crossover: 0.023603439331054688 millisecondes\n",
            "Temps d'exécution de order crossover: 0.0209808349609375 millisecondes\n",
            "Temps d'exécution de order crossover: 0.02574920654296875 millisecondes\n",
            "Temps d'exécution de order crossover: 0.019788742065429688 millisecondes\n",
            "Temps d'exécution de order crossover: 0.024557113647460938 millisecondes\n",
            "Temps d'exécution de order crossover: 0.025033950805664062 millisecondes\n",
            "Temps d'exécution de order crossover: 0.031232833862304688 millisecondes\n",
            "Temps d'exécution de order crossover: 0.031232833862304688 millisecondes\n",
            "Temps d'exécution de order crossover: 0.026941299438476562 millisecondes\n",
            "Temps d'exécution de order crossover: 0.02384185791015625 millisecondes\n",
            "Temps d'exécution de order crossover: 0.03147125244140625 millisecondes\n",
            "Temps d'exécution de order crossover: 0.02384185791015625 millisecondes\n",
            "Temps d'exécution de order crossover: 0.020742416381835938 millisecondes\n",
            "Temps d'exécution de order crossover: 0.019550323486328125 millisecondes\n",
            "Temps d'exécution de order crossover: 0.021219253540039062 millisecondes\n",
            "Temps d'exécution de order crossover: 0.025987625122070312 millisecondes\n",
            "Temps d'exécution de order crossover: 0.021457672119140625 millisecondes\n",
            "Temps d'exécution de order crossover: 0.021457672119140625 millisecondes\n",
            "Temps d'exécution de order crossover: 0.021696090698242188 millisecondes\n",
            "Temps d'exécution de order crossover: 0.020742416381835938 millisecondes\n",
            "Temps d'exécution de order crossover: 0.025987625122070312 millisecondes\n",
            "Temps d'exécution de order crossover: 0.031232833862304688 millisecondes\n",
            "Temps d'exécution de order crossover: 0.044345855712890625 millisecondes\n",
            "Temps d'exécution de order crossover: 0.026226043701171875 millisecondes\n",
            "Temps d'exécution de order crossover: 0.021457672119140625 millisecondes\n",
            "Temps d'exécution de order crossover: 0.025987625122070312 millisecondes\n",
            "Temps d'exécution de order crossover: 0.025272369384765625 millisecondes\n",
            "Temps d'exécution de order crossover: 0.028133392333984375 millisecondes\n",
            "Temps d'exécution de order crossover: 0.06341934204101562 millisecondes\n",
            "Temps d'exécution de order crossover: 0.020265579223632812 millisecondes\n",
            "Temps d'exécution de order crossover: 0.019311904907226562 millisecondes\n",
            "Temps d'exécution de order crossover: 0.022649765014648438 millisecondes\n",
            "Temps d'exécution de order crossover: 0.0247955322265625 millisecondes\n",
            "Temps d'exécution de order crossover: 0.020742416381835938 millisecondes\n",
            "Temps d'exécution de order crossover: 0.022411346435546875 millisecondes\n",
            "Temps d'exécution de order crossover: 0.025033950805664062 millisecondes\n",
            "Temps d'exécution de order crossover: 0.022649765014648438 millisecondes\n",
            "Temps d'exécution de order crossover: 0.024318695068359375 millisecondes\n",
            "Temps d'exécution de order crossover: 0.024080276489257812 millisecondes\n",
            "Temps d'exécution de order crossover: 0.020742416381835938 millisecondes\n",
            "Temps d'exécution de order crossover: 0.021219253540039062 millisecondes\n",
            "Temps d'exécution de order crossover: 0.024557113647460938 millisecondes\n",
            "Temps d'exécution de order crossover: 0.024080276489257812 millisecondes\n",
            "Temps d'exécution de order crossover: 0.019550323486328125 millisecondes\n",
            "Temps d'exécution de order crossover: 0.023365020751953125 millisecondes\n",
            "Temps d'exécution de order crossover: 0.021696090698242188 millisecondes\n",
            "Temps d'exécution de order crossover: 0.020503997802734375 millisecondes\n",
            "Temps d'exécution de order crossover: 0.021457672119140625 millisecondes\n",
            "Temps d'exécution de order crossover: 0.03266334533691406 millisecondes\n",
            "Temps d'exécution de order crossover: 0.02765655517578125 millisecondes\n",
            "Temps d'exécution de order crossover: 0.0209808349609375 millisecondes\n",
            "Temps d'exécution de order crossover: 0.019788742065429688 millisecondes\n",
            "Temps d'exécution de order crossover: 0.024318695068359375 millisecondes\n",
            "Temps d'exécution de order crossover: 0.0209808349609375 millisecondes\n",
            "Temps d'exécution de order crossover: 0.02956390380859375 millisecondes\n",
            "Temps d'exécution de order crossover: 0.0209808349609375 millisecondes\n",
            "Temps d'exécution de order crossover: 0.02193450927734375 millisecondes\n",
            "Temps d'exécution de order crossover: 0.024318695068359375 millisecondes\n",
            "Temps d'exécution de order crossover: 0.5528926849365234 millisecondes\n",
            "Temps d'exécution de order crossover: 0.02002716064453125 millisecondes\n",
            "Temps d'exécution de order crossover: 0.030755996704101562 millisecondes\n",
            "Temps d'exécution de order crossover: 0.016450881958007812 millisecondes\n",
            "Temps d'exécution de order crossover: 0.01621246337890625 millisecondes\n",
            "Temps d'exécution de order crossover: 0.016689300537109375 millisecondes\n",
            "Temps d'exécution de order crossover: 0.018596649169921875 millisecondes\n",
            "Temps d'exécution de order crossover: 0.025033950805664062 millisecondes\n",
            "Temps d'exécution de order crossover: 0.027894973754882812 millisecondes\n",
            "Temps d'exécution de order crossover: 0.029802322387695312 millisecondes\n",
            "Temps d'exécution de order crossover: 0.03910064697265625 millisecondes\n",
            "Temps d'exécution de order crossover: 0.0209808349609375 millisecondes\n",
            "Temps d'exécution de order crossover: 0.026702880859375 millisecondes\n",
            "Temps d'exécution de order crossover: 0.021696090698242188 millisecondes\n",
            "Temps d'exécution de order crossover: 0.02193450927734375 millisecondes\n",
            "Temps d'exécution de order crossover: 0.03337860107421875 millisecondes\n",
            "Temps d'exécution de order crossover: 0.038623809814453125 millisecondes\n",
            "Meilleur individu: [1, 6, 3, 8, 9, 4, 5, 2, 10, 7]\n"
          ]
        }
      ]
    },
    {
      "cell_type": "markdown",
      "source": [
        "Fonction de découdage du meilleur individu retourner par l'algorithme génétique et qui donne les routes avec leur distance, leur consommation d'enrgie"
      ],
      "metadata": {
        "id": "D9ixaS7s8oG9"
      }
    },
    {
      "cell_type": "code",
      "source": [
        "def decode_best_individual(best_individual, demands, capacity, distance_matrix, energy_matrix, k):\n",
        "    routes = []\n",
        "    current_route = [0]  # Commence chaque route par le dépôt\n",
        "    current_demand = 0\n",
        "    current_distance = 0\n",
        "    current_energy_consumption = 0\n",
        "\n",
        "    # Initialise la liste des clients non visités\n",
        "    unvisited_clients = set(best_individual)\n",
        "\n",
        "    # Parcours les clients du meilleur individu dans l'ordre\n",
        "    for client in best_individual:\n",
        "        # Si le client est déjà visité ou s'il s'agit du dépôt, passe au suivant\n",
        "        if client == 0 or client not in unvisited_clients:\n",
        "            continue\n",
        "\n",
        "        # Si ajouter le client ne viole pas les contraintes\n",
        "        if current_demand + demands[client - 1] <= capacity and len(current_route) <= k + 1:\n",
        "            current_route.append(client)\n",
        "            current_demand += demands[client - 1]\n",
        "            current_distance += distance_matrix[current_route[-2]][client]\n",
        "            current_energy_consumption += energy_matrix[current_route[-2]][client]\n",
        "            unvisited_clients.remove(client)\n",
        "        else:\n",
        "            # Termine la route actuelle et démarre une nouvelle route\n",
        "            current_route.append(0)  # Termine la route actuelle par le dépôt\n",
        "            current_distance += distance_matrix[current_route[-2]][0]\n",
        "            current_energy_consumption += energy_matrix[current_route[-2]][0]\n",
        "            routes.append((current_route, current_distance, current_energy_consumption))\n",
        "            current_route = [0, client]  # Démarre une nouvelle route avec le dépôt et le client\n",
        "            current_demand = demands[client - 1]\n",
        "            current_distance = distance_matrix[0][client]\n",
        "            current_energy_consumption = energy_matrix[0][client]\n",
        "            unvisited_clients.remove(client)\n",
        "\n",
        "    # Termine la dernière route\n",
        "    current_route.append(0)  # Termine la dernière route par le dépôt\n",
        "    current_distance += distance_matrix[current_route[-2]][0]\n",
        "    current_energy_consumption += energy_matrix[current_route[-2]][0]\n",
        "    routes.append((current_route, current_distance, current_energy_consumption))\n",
        "\n",
        "    return routes"
      ],
      "metadata": {
        "id": "y4czQjvIzGcd"
      },
      "execution_count": null,
      "outputs": []
    },
    {
      "cell_type": "markdown",
      "source": [
        "Affichage des routes"
      ],
      "metadata": {
        "id": "BMPlaoVU8tlo"
      }
    },
    {
      "cell_type": "code",
      "source": [
        "routes = decode_best_individual(best_individual, demands, capacity, distance_matrix, energy_matrix, k)\n",
        "total_distance = 0\n",
        "total_energy_consumption = 0\n",
        "\n",
        "for route, distance, energy_consumption in routes:\n",
        "    print(\"Route:\", route)\n",
        "    print(\"Distance:\", distance)\n",
        "    print(\"Energy Consumption:\", energy_consumption)\n",
        "    print()\n",
        "\n",
        "    total_distance += distance\n",
        "    total_energy_consumption += energy_consumption\n",
        "\n",
        "print(\"Total Distance:\", total_distance)\n",
        "print(\"Total Energy Consumption:\", total_energy_consumption)"
      ],
      "metadata": {
        "colab": {
          "base_uri": "https://localhost:8080/"
        },
        "id": "IuSdz-zPEIrv",
        "outputId": "e696697c-531f-4e59-a405-a4cdfc13c2c9"
      },
      "execution_count": null,
      "outputs": [
        {
          "output_type": "stream",
          "name": "stdout",
          "text": [
            "Route: [0, 1, 6, 3, 8, 0]\n",
            "Distance: 255.07824624455577\n",
            "Energy Consumption: 0.31884780780569477\n",
            "\n",
            "Route: [0, 9, 4, 5, 2, 0]\n",
            "Distance: 365.5226601624766\n",
            "Energy Consumption: 0.45690332520309573\n",
            "\n",
            "Route: [0, 10, 7, 0]\n",
            "Distance: 234.79112251704962\n",
            "Energy Consumption: 0.29348890314631204\n",
            "\n",
            "Total Distance: 855.3920289240821\n",
            "Total Energy Consumption: 1.0692400361551027\n"
          ]
        }
      ]
    },
    {
      "cell_type": "markdown",
      "source": [
        "plot des routes"
      ],
      "metadata": {
        "id": "xhcyHOin81oM"
      }
    },
    {
      "cell_type": "code",
      "source": [
        "import matplotlib.pyplot as plt\n",
        "\n",
        "def plot_routes(routes, distance_matrix):\n",
        "    colors = ['b', 'g', 'r', 'c', 'm', 'y', 'k']  # Liste de couleurs prédéfinies\n",
        "\n",
        "    for i, (route, _, _) in enumerate(routes):\n",
        "        x_coords = []\n",
        "        y_coords = []\n",
        "        for client in route[:]:\n",
        "            x = client_coordinates[client][0]\n",
        "            y = client_coordinates[client][1]\n",
        "            x_coords.append(x)\n",
        "            y_coords.append(y)\n",
        "            plt.plot(x, y, marker='o', color=colors[i % len(colors)])  # Attribution de la couleur\n",
        "\n",
        "            plt.text(x, y, str(client), verticalalignment='bottom', horizontalalignment='right')\n",
        "\n",
        "        plt.plot(x_coords + [x_coords[0]], y_coords + [y_coords[0]], color=colors[i % len(colors)])\n",
        "\n",
        "    # Affichage du dépôt\n",
        "    depot_x = client_coordinates[0][0]\n",
        "    depot_y = client_coordinates[0][1]\n",
        "    plt.plot(depot_x, depot_y, marker='o', color='red', label='Dépôt')\n",
        "    plt.text(depot_x, depot_y, 'Dépôt', verticalalignment='bottom', horizontalalignment='right')\n",
        "\n",
        "    plt.xlabel('Coordonnée X')\n",
        "    plt.ylabel('Coordonnée Y')\n",
        "    plt.title('Routes')\n",
        "    plt.legend()\n",
        "    plt.grid(True)\n",
        "    plt.show()\n",
        "plot_routes(routes, distance_matrix)"
      ],
      "metadata": {
        "colab": {
          "base_uri": "https://localhost:8080/",
          "height": 472
        },
        "id": "Nl8dcmeHH9rI",
        "outputId": "4fe5083a-217e-4d19-a492-1221d0dec510"
      },
      "execution_count": null,
      "outputs": [
        {
          "output_type": "display_data",
          "data": {
            "text/plain": [
              "<Figure size 640x480 with 1 Axes>"
            ],
            "image/png": "[encoded data removed]"
          },
          "metadata": {}
        }
      ]
    }
  ]
}