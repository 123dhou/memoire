{
  "nbformat": 4,
  "nbformat_minor": 0,
  "metadata": {
    "colab": {
      "provenance": []
    },
    "kernelspec": {
      "name": "python3",
      "display_name": "Python 3"
    },
    "language_info": {
      "name": "python"
    }
  },
  "cells": [
    {
      "cell_type": "markdown",
      "source": [
        "Importation des bibliothèques nécessaires"
      ],
      "metadata": {
        "id": "5IEdUN4J2bWF"
      }
    },
    {
      "cell_type": "code",
      "execution_count": null,
      "metadata": {
        "id": "AbUQ4HRxZHnz"
      },
      "outputs": [],
      "source": [
        "import random\n",
        "import math\n",
        "import matplotlib.pyplot as plt\n",
        "import itertools\n",
        "import numpy as np"
      ]
    },
    {
      "cell_type": "markdown",
      "source": [
        "Fonction pour générer des valeurs aléatoires"
      ],
      "metadata": {
        "id": "-4jGCa1w4AFZ"
      }
    },
    {
      "cell_type": "code",
      "source": [
        "def generate_random(x):\n",
        "  test = []\n",
        "  for _ in range(x):\n",
        "    random_number = random.randint(1, 10) # genere des nums entre 1 et 10\n",
        "    test.append(random_number)\n",
        "  return test"
      ],
      "metadata": {
        "id": "xqqaNU3OZtzX"
      },
      "execution_count": null,
      "outputs": []
    },
    {
      "cell_type": "markdown",
      "source": [
        "Fonction pour générer des valeurs aléatoires"
      ],
      "metadata": {
        "id": "vTqSnl9T4Ejw"
      }
    },
    {
      "cell_type": "code",
      "source": [
        "def generate_random_client(x):\n",
        "    test = []\n",
        "    while len(test) < x:\n",
        "        random_number = random.randint(1, 10)\n",
        "        if random_number not in test:\n",
        "            test.append(random_number)\n",
        "    return test"
      ],
      "metadata": {
        "id": "ryZrJZVtZ0fY"
      },
      "execution_count": null,
      "outputs": []
    },
    {
      "cell_type": "markdown",
      "source": [
        "Fonction pour générer la population avec un taille donnée"
      ],
      "metadata": {
        "id": "OWqxZxfQ4wba"
      }
    },
    {
      "cell_type": "code",
      "source": [
        "def generate_population(clients, population_size):\n",
        "    population = []\n",
        "    for _ in range(population_size):\n",
        "        random.shuffle(clients)  # Mélange aléatoire des coordonnées des clients\n",
        "        population.append(list(clients))  # Ajout d'un individu à la population\n",
        "    return population"
      ],
      "metadata": {
        "id": "dIuLQFGQaI-l"
      },
      "execution_count": null,
      "outputs": []
    },
    {
      "cell_type": "markdown",
      "source": [
        "Fonction pour calculer la distance entre paires de clients"
      ],
      "metadata": {
        "id": "NSUYt-rv6aFy"
      }
    },
    {
      "cell_type": "code",
      "source": [
        "def calculate_distance(x1, y1, x2, y2):\n",
        "    return math.sqrt((x2 - x1) ** 2 + (y2 - y1) ** 2)"
      ],
      "metadata": {
        "id": "1w9uF5R3icGW"
      },
      "execution_count": null,
      "outputs": []
    },
    {
      "cell_type": "markdown",
      "source": [
        "Fonction pour calculer la matrice de distance entre les clients"
      ],
      "metadata": {
        "id": "sxe_T9GB7Bz0"
      }
    },
    {
      "cell_type": "code",
      "source": [
        "def calculate_distance_matrix(client_coordinates):\n",
        "    num_clients = len(client_coordinates)\n",
        "    distance_matrix = [[0] * num_clients for _ in range(num_clients)]\n",
        "\n",
        "    for i in range(num_clients):\n",
        "        for j in range(num_clients):\n",
        "            if i != j:\n",
        "                x1, y1 = client_coordinates[i]\n",
        "                x2, y2 = client_coordinates[j]\n",
        "                distance = calculate_distance(x1, y1, x2, y2)\n",
        "                distance_matrix[i][j] = distance\n",
        "\n",
        "    return distance_matrix"
      ],
      "metadata": {
        "id": "PV-QiwEZiVFz"
      },
      "execution_count": null,
      "outputs": []
    },
    {
      "cell_type": "markdown",
      "source": [
        "Fonction pour calculer la matrice de distance de la consommation d'énergie"
      ],
      "metadata": {
        "id": "Uz1--Xag7Qe5"
      }
    },
    {
      "cell_type": "code",
      "source": [
        "def calculate_energy_consumption(speed, consumption_rate, distance_matrix):\n",
        "    energy_matrix = []\n",
        "\n",
        "    for i in range(len(distance_matrix)):\n",
        "        energy_row = [distance * consumption_rate / speed for distance in distance_matrix[i]]\n",
        "        energy_matrix.append(energy_row)\n",
        "\n",
        "    return energy_matrix\n"
      ],
      "metadata": {
        "id": "s_qoSOQjauw-"
      },
      "execution_count": null,
      "outputs": []
    },
    {
      "cell_type": "markdown",
      "source": [
        "Evaluation de la population"
      ],
      "metadata": {
        "id": "PTP8xWJc4-4y"
      }
    },
    {
      "cell_type": "code",
      "source": [
        "def evaluate_population(client_coordinates, speed, consumption_rate, population):\n",
        "    distances = []\n",
        "    energies = []\n",
        "    fitness_scores = []\n",
        "\n",
        "    distance_matrix = calculate_distance_matrix(client_coordinates)\n",
        "    energy_matrix = calculate_energy_consumption(speed, consumption_rate, distance_matrix)\n",
        "\n",
        "    for individual in population:\n",
        "\n",
        "        energy = sum(energy_matrix[i][j] for i, j in zip(individual[:-1], individual[1:]))\n",
        "        fitness_score = 1/(energy)\n",
        "        energies.append(energy)\n",
        "        fitness_scores.append(fitness_score)\n",
        "\n",
        "    return  energies, fitness_scores"
      ],
      "metadata": {
        "id": "E5C5tcA7bvgA"
      },
      "execution_count": null,
      "outputs": []
    },
    {
      "cell_type": "markdown",
      "source": [
        "Evaluation de chaque individu (fitness score)"
      ],
      "metadata": {
        "id": "GeI-5U5K47dE"
      }
    },
    {
      "cell_type": "code",
      "source": [
        "def evaluate_fitness(individual, client_coordinates, speed, consumption_rate):\n",
        "\n",
        "    distance_matrix = calculate_distance_matrix(client_coordinates)\n",
        "    energy_matrix = calculate_energy_consumption(speed, consumption_rate, distance_matrix)\n",
        "\n",
        "\n",
        "    energy = sum(energy_matrix[individual[i]][individual[i+1]] for i in range(len(individual) - 1))\n",
        "\n",
        "    # Fitness score is a combination of distance and energy\n",
        "    fitness_score = 1/(energy)\n",
        "\n",
        "    return fitness_score\n"
      ],
      "metadata": {
        "id": "0-mVSaB5hylf"
      },
      "execution_count": null,
      "outputs": []
    },
    {
      "cell_type": "markdown",
      "source": [
        "Séléctionner les parents"
      ],
      "metadata": {
        "id": "0y5Sr2YH5H3e"
      }
    },
    {
      "cell_type": "code",
      "source": [
        "\n",
        "def select_parents(population, num_parents):\n",
        "    parents = random.sample(population, num_parents)\n",
        "    return parents"
      ],
      "metadata": {
        "id": "DmUcmrObcTGc"
      },
      "execution_count": null,
      "outputs": []
    },
    {
      "cell_type": "markdown",
      "source": [
        "croisement des meilleurs parents pour générer les child (croisement avec deux points aléatoires)"
      ],
      "metadata": {
        "id": "1hENYJ575QyV"
      }
    },
    {
      "cell_type": "code",
      "source": [
        "import time\n",
        "def crossover(parents, crossover_rate):\n",
        "    start_time = time.time()\n",
        "    num_parents = len(parents)\n",
        "    num_genes = len(parents[0])  # Nombre de gènes dans chaque parent\n",
        "\n",
        "    children = []\n",
        "\n",
        "    for i in range(num_parents):\n",
        "        parent1 = parents[i]\n",
        "        parent2 = parents[(i + 1) % num_parents]  # Sélection du parent suivant pour assurer une boucle\n",
        "\n",
        "        if random.random() > crossover_rate:\n",
        "            children.append(parent1)\n",
        "            continue\n",
        "\n",
        "        # Création d'un tableau vide pour stocker les gènes déjà utilisés\n",
        "        used_genes = set()\n",
        "\n",
        "        # Génération de deux points de coupure uniques\n",
        "        point1, point2 = sorted(random.sample(range(1, num_genes - 1), 2))\n",
        "\n",
        "        # Création de l'enfant en préservant l'ordre des gènes de parent1 et en ajoutant les gènes de parent2\n",
        "        child = []\n",
        "        for gene in parent1[:point1]:\n",
        "            child.append(gene)\n",
        "            used_genes.add(gene)\n",
        "\n",
        "        for gene in parent2:\n",
        "            if gene not in used_genes:\n",
        "                child.append(gene)\n",
        "                used_genes.add(gene)\n",
        "\n",
        "        for gene in parent1[point2:]:\n",
        "            if gene not in used_genes:\n",
        "                child.append(gene)\n",
        "                used_genes.add(gene)\n",
        "\n",
        "        children.append(child)\n",
        "    end_time = time.time()\n",
        "    execution_time = (end_time - start_time) * 1000  # Convertir en millisecondes\n",
        "    print(\"Temps d'exécution de crossover:\", execution_time, \"millisecondes\")\n",
        "    return children\n"
      ],
      "metadata": {
        "id": "qR0D2BJBcjqm"
      },
      "execution_count": null,
      "outputs": []
    },
    {
      "cell_type": "markdown",
      "source": [
        "Fonction de mutation qui permet de changer les position des gènes trouver dans child de manière aléatoire"
      ],
      "metadata": {
        "id": "jtSSiDYW5Z8Y"
      }
    },
    {
      "cell_type": "code",
      "source": [
        "def mutation(children, mutation_rate):\n",
        "    mutated_children = []\n",
        "\n",
        "    for child in children:\n",
        "        if random.random() <= mutation_rate:\n",
        "            mutated_child = list(child)  # Convertir en une liste modifiable\n",
        "\n",
        "            # Générer deux positions de gènes uniques\n",
        "            gene_pos1, gene_pos2 = random.sample(range(len(child)), 2)\n",
        "\n",
        "            # Échanger les positions des gènes\n",
        "            mutated_child[gene_pos1], mutated_child[gene_pos2] = mutated_child[gene_pos2], mutated_child[gene_pos1]\n",
        "\n",
        "            mutated_children.append(mutated_child)\n",
        "        else:\n",
        "            mutated_children.append(child)\n",
        "\n",
        "    return mutated_children"
      ],
      "metadata": {
        "id": "ourN1d-Uc0-9"
      },
      "execution_count": null,
      "outputs": []
    },
    {
      "cell_type": "markdown",
      "source": [
        "Données (paramètres d'entrées)"
      ],
      "metadata": {
        "id": "A8rRUpji7oSR"
      }
    },
    {
      "cell_type": "code",
      "source": [
        "clients = generate_random_client(10) # les indices des clients\n",
        "population_size = 50 # taille de la population\n",
        "client_coordinates = {0: (0, 0), 1: (16, 68), 2: (80, 81), 3: (83, 44), 4: (62, 13), 5: (70, 8), 6: (52, 28),  7: (82, 84), 8: (50, 14), 9: (70, 77), 10: (8, 9)}\n",
        "demands = [4, 5, 18, 46, 25, 56, 13, 23, 16, 10 ] # les demandes des clients\n",
        "capacity = (2/3) * sum (demands) # capacité maximale\n",
        "k = 3\n",
        "num_parents = 2 # nombre de parents choisi\n",
        "crossover_rate = 0.8 # taux de croisement\n",
        "mutation_rate = 0.2 # taux de mutation\n",
        "num_generations = 100 # nombre de génération\n",
        "speed = 80 # vitesse\n",
        "consumption_rate = 0.1  # consommation spécifique en kWh/km"
      ],
      "metadata": {
        "id": "KK1bAaNids8u"
      },
      "execution_count": null,
      "outputs": []
    },
    {
      "cell_type": "code",
      "source": [
        "population = generate_population(clients, population_size)\n",
        "# Afficher chaque individu\n",
        "for individual in population:\n",
        "    print(individual)\n",
        "\n",
        "distance_matrix = calculate_distance_matrix(client_coordinates)\n",
        "for row in distance_matrix:\n",
        "  print(row)\n",
        "\n",
        "energy_matrix = calculate_energy_consumption(speed, consumption_rate, distance_matrix)\n",
        "for row in energy_matrix:\n",
        "  print(row)\n",
        "\n",
        "energies, fitness_scores = evaluate_population(client_coordinates, speed, consumption_rate, population)\n",
        "\n",
        "for i in range(len(population)):\n",
        "    print(f\"Individu {i+1} -  Consommation d'énergie : {energies[i]}, Fitness Score : {fitness_scores[i]}\")\n",
        "\n",
        "parents = select_parents(population, num_parents)\n",
        "for parent in parents:\n",
        "    print(\"Parent:\", parent )\n",
        "\n",
        "children  = crossover(parents, crossover_rate)\n",
        "for child in children:\n",
        "    print(\"child:\", child)\n",
        "\n",
        "mutated_children = mutation(children, mutation_rate)\n",
        "for child_mutate in mutated_children:\n",
        "  print(\"child mutate:\", child_mutate)"
      ],
      "metadata": {
        "id": "ANxkmw74d0h2",
        "colab": {
          "base_uri": "https://localhost:8080/"
        },
        "outputId": "8fd787a0-8c8b-4e88-bb62-5e22604be6db"
      },
      "execution_count": null,
      "outputs": [
        {
          "output_type": "stream",
          "name": "stdout",
          "text": [
            "[10, 5, 7, 8, 2, 4, 3, 6, 9, 1]\n",
            "[8, 10, 5, 3, 7, 1, 4, 2, 6, 9]\n",
            "[3, 10, 8, 6, 5, 7, 4, 9, 1, 2]\n",
            "[8, 9, 5, 1, 7, 4, 3, 2, 10, 6]\n",
            "[4, 3, 8, 1, 5, 10, 9, 2, 6, 7]\n",
            "[9, 5, 6, 3, 1, 2, 10, 4, 7, 8]\n",
            "[4, 10, 2, 3, 8, 9, 5, 1, 6, 7]\n",
            "[1, 10, 6, 8, 4, 2, 9, 3, 5, 7]\n",
            "[5, 3, 4, 6, 2, 1, 7, 10, 8, 9]\n",
            "[1, 7, 4, 9, 5, 10, 8, 2, 6, 3]\n",
            "[8, 2, 10, 6, 7, 4, 5, 3, 1, 9]\n",
            "[9, 4, 2, 5, 1, 7, 8, 6, 10, 3]\n",
            "[1, 3, 10, 4, 8, 9, 7, 2, 6, 5]\n",
            "[5, 7, 8, 9, 1, 3, 4, 2, 6, 10]\n",
            "[7, 4, 1, 5, 8, 2, 3, 10, 9, 6]\n",
            "[10, 8, 3, 2, 6, 7, 5, 1, 4, 9]\n",
            "[5, 8, 7, 4, 10, 9, 6, 1, 2, 3]\n",
            "[5, 6, 9, 4, 7, 2, 8, 1, 10, 3]\n",
            "[4, 3, 6, 2, 1, 10, 8, 9, 7, 5]\n",
            "[10, 2, 4, 6, 7, 9, 3, 8, 1, 5]\n",
            "[3, 7, 8, 6, 5, 2, 9, 1, 10, 4]\n",
            "[2, 6, 1, 8, 10, 3, 4, 7, 5, 9]\n",
            "[10, 2, 3, 8, 4, 9, 6, 7, 5, 1]\n",
            "[10, 5, 7, 6, 3, 1, 9, 8, 4, 2]\n",
            "[5, 6, 9, 3, 1, 2, 7, 4, 8, 10]\n",
            "[2, 10, 7, 6, 3, 5, 4, 8, 1, 9]\n",
            "[4, 5, 2, 1, 8, 3, 7, 10, 9, 6]\n",
            "[5, 6, 2, 3, 7, 4, 10, 8, 9, 1]\n",
            "[2, 7, 1, 8, 9, 5, 10, 6, 3, 4]\n",
            "[7, 5, 4, 1, 9, 8, 2, 10, 3, 6]\n",
            "[3, 7, 9, 4, 5, 6, 10, 2, 1, 8]\n",
            "[4, 2, 6, 5, 1, 8, 7, 10, 9, 3]\n",
            "[1, 5, 10, 2, 6, 9, 8, 7, 4, 3]\n",
            "[4, 3, 10, 5, 2, 7, 6, 9, 8, 1]\n",
            "[4, 5, 8, 7, 10, 9, 1, 2, 6, 3]\n",
            "[8, 10, 1, 9, 4, 7, 2, 5, 3, 6]\n",
            "[4, 10, 9, 7, 2, 5, 1, 6, 8, 3]\n",
            "[7, 9, 5, 8, 10, 1, 6, 4, 3, 2]\n",
            "[8, 3, 1, 9, 6, 5, 10, 7, 4, 2]\n",
            "[7, 9, 4, 5, 10, 6, 2, 8, 1, 3]\n",
            "[10, 6, 7, 3, 4, 8, 2, 1, 9, 5]\n",
            "[5, 4, 2, 6, 9, 10, 3, 8, 7, 1]\n",
            "[5, 8, 1, 7, 10, 4, 3, 2, 9, 6]\n",
            "[2, 8, 7, 4, 10, 9, 3, 1, 5, 6]\n",
            "[4, 1, 9, 5, 8, 7, 3, 10, 6, 2]\n",
            "[7, 6, 4, 1, 3, 10, 2, 5, 8, 9]\n",
            "[8, 9, 2, 10, 4, 1, 3, 6, 7, 5]\n",
            "[5, 7, 3, 4, 8, 9, 10, 2, 1, 6]\n",
            "[1, 2, 7, 8, 4, 3, 5, 10, 9, 6]\n",
            "[4, 2, 9, 7, 8, 3, 10, 5, 6, 1]\n",
            "[0, 69.85699678629192, 113.84638773364749, 93.94147114027967, 63.34824385884742, 70.45565981523414, 59.0592922409336, 117.38824472663352, 51.92301994298868, 104.06248123122954, 12.041594578792296]\n",
            "[69.85699678629192, 0, 65.30696746902278, 71.16881339463234, 71.7007670809734, 80.72174428244226, 53.81449618829484, 67.91170738539859, 63.812224534175265, 54.74486277268398, 59.53990258641679]\n",
            "[113.84638773364749, 65.30696746902278, 0, 37.12142238654117, 70.3420215802759, 73.68174807915459, 59.941638282582836, 3.605551275463989, 73.40980860893181, 10.770329614269007, 101.82337649086284]\n",
            "[93.94147114027967, 71.16881339463234, 37.12142238654117, 0, 37.44329045369811, 38.27531841800928, 34.88552708502482, 40.01249804748511, 44.598206241955516, 35.4682957019364, 82.76472678623425]\n",
            "[63.34824385884742, 71.7007670809734, 70.3420215802759, 37.44329045369811, 0, 9.433981132056603, 18.027756377319946, 73.76313442364011, 12.041594578792296, 64.4980619863884, 54.147945482723536]\n",
            "[70.45565981523414, 80.72174428244226, 73.68174807915459, 38.27531841800928, 9.433981132056603, 0, 26.90724809414742, 76.94153624668537, 20.8806130178211, 69.0, 62.00806399170998]\n",
            "[59.0592922409336, 53.81449618829484, 59.941638282582836, 34.88552708502482, 18.027756377319946, 26.90724809414742, 0, 63.52952069707436, 14.142135623730951, 52.20153254455275, 47.92702786528704]\n",
            "[117.38824472663352, 67.91170738539859, 3.605551275463989, 40.01249804748511, 73.76313442364011, 76.94153624668537, 63.52952069707436, 0, 76.96752561957543, 13.892443989449804, 105.3612832116238]\n",
            "[51.92301994298868, 63.812224534175265, 73.40980860893181, 44.598206241955516, 12.041594578792296, 20.8806130178211, 14.142135623730951, 76.96752561957543, 0, 66.09841147864296, 42.2965719651132]\n",
            "[104.06248123122954, 54.74486277268398, 10.770329614269007, 35.4682957019364, 64.4980619863884, 69.0, 52.20153254455275, 13.892443989449804, 66.09841147864296, 0, 92.02173656261873]\n",
            "[12.041594578792296, 59.53990258641679, 101.82337649086284, 82.76472678623425, 54.147945482723536, 62.00806399170998, 47.92702786528704, 105.3612832116238, 42.2965719651132, 92.02173656261873, 0]\n",
            "[0.0, 0.0873212459828649, 0.14230798466705935, 0.1174268389253496, 0.07918530482355927, 0.08806957476904267, 0.073824115301167, 0.14673530590829192, 0.06490377492873586, 0.13007810153903693, 0.01505199322349037]\n",
            "[0.0873212459828649, 0.0, 0.08163370933627848, 0.08896101674329042, 0.08962595885121676, 0.10090218035305283, 0.06726812023536856, 0.08488963423174824, 0.07976528066771908, 0.06843107846585497, 0.07442487823302099]\n",
            "[0.14230798466705935, 0.08163370933627848, 0.0, 0.04640177798317646, 0.08792752697534487, 0.09210218509894323, 0.07492704785322854, 0.004506939094329987, 0.09176226076116477, 0.013462912017836259, 0.12727922061357858]\n",
            "[0.1174268389253496, 0.08896101674329042, 0.04640177798317646, 0.0, 0.04680411306712264, 0.0478441480225116, 0.043606908856281025, 0.05001562255935639, 0.0557477578024444, 0.044335369627420504, 0.10345590848279282]\n",
            "[0.07918530482355927, 0.08962595885121676, 0.08792752697534487, 0.04680411306712264, 0.0, 0.011792476415070755, 0.022534695471649935, 0.09220391802955015, 0.01505199322349037, 0.08062257748298549, 0.06768493185340443]\n",
            "[0.08806957476904267, 0.10090218035305283, 0.09210218509894323, 0.0478441480225116, 0.011792476415070755, 0.0, 0.03363406011768428, 0.09617692030835671, 0.026100766272276376, 0.08625000000000001, 0.07751007998963748]\n",
            "[0.073824115301167, 0.06726812023536856, 0.07492704785322854, 0.043606908856281025, 0.022534695471649935, 0.03363406011768428, 0.0, 0.07941190087134295, 0.017677669529663688, 0.06525191568069094, 0.059908784831608795]\n",
            "[0.14673530590829192, 0.08488963423174824, 0.004506939094329987, 0.05001562255935639, 0.09220391802955015, 0.09617692030835671, 0.07941190087134295, 0.0, 0.09620940702446928, 0.017365554986812255, 0.13170160401452974]\n",
            "[0.06490377492873586, 0.07976528066771908, 0.09176226076116477, 0.0557477578024444, 0.01505199322349037, 0.026100766272276376, 0.017677669529663688, 0.09620940702446928, 0.0, 0.0826230143483037, 0.05287071495639151]\n",
            "[0.13007810153903693, 0.06843107846585497, 0.013462912017836259, 0.044335369627420504, 0.08062257748298549, 0.08625000000000001, 0.06525191568069094, 0.017365554986812255, 0.0826230143483037, 0.0, 0.11502717070327342]\n",
            "[0.01505199322349037, 0.07442487823302099, 0.12727922061357858, 0.10345590848279282, 0.06768493185340443, 0.07751007998963748, 0.059908784831608795, 0.13170160401452974, 0.05287071495639151, 0.11502717070327342, 0.0]\n",
            "Individu 1 -  Consommation d'énergie : 0.6736802111289227, Fitness Score : 1.4843838122011115\n",
            "Individu 2 -  Consommation d'énergie : 0.6308626491201264, Fitness Score : 1.5851310921556618\n",
            "Individu 3 -  Consommation d'énergie : 0.626706556709558, Fitness Score : 1.5956431112678493\n",
            "Individu 4 -  Consommation d'énergie : 0.7272626434581413, Fitness Score : 1.3750190649762921\n",
            "Individu 5 -  Consommation d'énergie : 0.6435584433256576, Fitness Score : 1.55386043081401\n",
            "Individu 6 -  Consommation d'énergie : 0.7174631725745366, Fitness Score : 1.3937997631454886\n",
            "Individu 7 -  Consommation d'énergie : 0.713568904060672, Fitness Score : 1.401406359370971\n",
            "Individu 8 -  Consommation d'énergie : 0.4568102027692538, Fitness Score : 2.189092962324059\n",
            "Individu 9 -  Consommation d'énergie : 0.6258286813017643, Fitness Score : 1.5978813849182096\n",
            "Individu 10 -  Consommation d'énergie : 0.6846431421609872, Fitness Score : 1.4606149370657973\n",
            "Individu 11 -  Consommation d'énergie : 0.6675948047539729, Fitness Score : 1.4979145926225828\n",
            "Individu 12 -  Consommation d'énergie : 0.7236958740106092, Fitness Score : 1.3817959116695755\n",
            "Individu 13 -  Consommation d'énergie : 0.48821046670333673, Fitness Score : 2.048296929708503\n",
            "Individu 14 -  Consommation d'énergie : 0.70196890961758, Fitness Score : 1.4245645160335976\n",
            "Individu 15 -  Consommation d'énergie : 0.7307318571171946, Fitness Score : 1.368491041221459\n",
            "Individu 16 -  Consommation d'énergie : 0.6766868364621956, Fitness Score : 1.4777884630180285\n",
            "Individu 17 -  Consommation d'énergie : 0.6577817171184881, Fitness Score : 1.5202611656350844\n",
            "Individu 18 -  Consommation d'énergie : 0.6256277385499386, Fitness Score : 1.5983946017447537\n",
            "Individu 19 -  Consommation d'énergie : 0.5704328619457959, Fitness Score : 1.7530546830505407\n",
            "Individu 20 -  Consommation d'énergie : 0.6152694873693654, Fitness Score : 1.6253040668010064\n",
            "Individu 21 -  Consommation d'énergie : 0.5136427449002335, Fitness Score : 1.9468784674340784\n",
            "Individu 22 -  Consommation d'énergie : 0.69972202360053, Fitness Score : 1.4291389527148828\n",
            "Individu 23 -  Consommation d'énergie : 0.6668462443191188, Fitness Score : 1.4995960590901232\n",
            "Individu 24 -  Consommation d'énergie : 0.6397004397819025, Fitness Score : 1.5632316906659263\n",
            "Individu 25 -  Consommation d'énergie : 0.4784496368091266, Fitness Score : 2.090084144841647\n",
            "Individu 26 -  Consommation d'énergie : 0.6048846111503791, Fitness Score : 1.653207870668398\n",
            "Individu 27 -  Consommation d'énergie : 0.6830377222783064, Fitness Score : 1.4640479835644364\n",
            "Individu 28 -  Consommation d'énergie : 0.5687921661669504, Fitness Score : 1.7581114148229717\n",
            "Individu 29 -  Consommation d'énergie : 0.5658647550867509, Fitness Score : 1.767206723887041\n",
            "Individu 30 -  Consommation d'énergie : 0.7147537471026202, Fitness Score : 1.3990832563714084\n",
            "Individu 31 -  Consommation d'énergie : 0.542017287011094, Fitness Score : 1.8449596054664803\n",
            "Individu 32 -  Consommation d'énergie : 0.7644296473367225, Fitness Score : 1.3081648566143478\n",
            "Individu 33 -  Consommation d'énergie : 0.7637108969596342, Fitness Score : 1.3093960083338378\n",
            "Individu 34 -  Consommation d'énergie : 0.6314313373008829, Fitness Score : 1.5837034700789498\n",
            "Individu 35 -  Consommation d'énergie : 0.6494301689412626, Fitness Score : 1.5398114344306733\n",
            "Individu 36 -  Consommation d'énergie : 0.556613348239869, Fitness Score : 1.7965792648742882\n",
            "Individu 37 -  Consommation d'énergie : 0.5382825096572927, Fitness Score : 1.8577605291999326\n",
            "Individu 38 -  Consommation d'énergie : 0.4400206212058187, Fitness Score : 2.272620763226122\n",
            "Individu 39 -  Consommation d'énergie : 0.7013689578190273, Fitness Score : 1.4257830901293294\n",
            "Individu 40 -  Consommation d'énergie : 0.5826150797315176, Fitness Score : 1.7163991025787093\n",
            "Individu 41 -  Consommation d'énergie : 0.5792694631162194, Fitness Score : 1.7263123013949884\n",
            "Individu 42 -  Consommation d'énergie : 0.6952288451690631, Fitness Score : 1.438375301814216\n",
            "Individu 43 -  Consommation d'énergie : 0.5620629357885042, Fitness Score : 1.7791601906592982\n",
            "Individu 44 -  Consommation d'énergie : 0.73072031521331, Fitness Score : 1.3685126568680146\n",
            "Individu 45 -  Consommation d'énergie : 0.6549245743408039, Fitness Score : 1.526893384641311\n",
            "Individu 46 -  Consommation d'énergie : 0.7120946667533947, Fitness Score : 1.404307666787104\n",
            "Individu 47 -  Consommation d'énergie : 0.6888327844636108, Fitness Score : 1.4517311349788509\n",
            "Individu 48 -  Consommation d'énergie : 0.6818798843951288, Fitness Score : 1.4665339495783252\n",
            "Individu 49 -  Consommation d'énergie : 0.5498394761418042, Fitness Score : 1.8187126304879917\n",
            "Individu 50 -  Consommation d'énergie : 0.5525813276323902, Fitness Score : 1.809688366207805\n",
            "Parent: [7, 5, 4, 1, 9, 8, 2, 10, 3, 6]\n",
            "Parent: [4, 2, 9, 7, 8, 3, 10, 5, 6, 1]\n",
            "Temps d'exécution de crossover: 0.052928924560546875 millisecondes\n",
            "child: [7, 5, 4, 1, 9, 8, 2, 10, 3, 6]\n",
            "child: [4, 2, 7, 5, 1, 9, 8, 10, 3, 6]\n",
            "child mutate: [7, 5, 4, 1, 9, 8, 2, 10, 3, 6]\n",
            "child mutate: [4, 2, 7, 5, 1, 9, 8, 10, 3, 6]\n"
          ]
        }
      ]
    },
    {
      "cell_type": "markdown",
      "source": [
        "Exécution de l'algorithme génétique (trouver le meilleur individu avec leur score  )"
      ],
      "metadata": {
        "id": "IUW0rk_l5qeG"
      }
    },
    {
      "cell_type": "code",
      "source": [
        "import random\n",
        "\n",
        "def execute_genetic_algorithm(clients, population_size, demands, capacity, num_parents, crossover_rate, mutation_rate, num_generations, speed, consumption_rate):\n",
        "\n",
        "\n",
        "    # Générer la population initiale\n",
        "    population = generate_population(clients, population_size)\n",
        "\n",
        "    # Calculer la matrice des distances\n",
        "    distance_matrix = calculate_distance_matrix(client_coordinates)\n",
        "\n",
        "    # Calculer la matrice de consommation d'énergie\n",
        "    energy_matrix = calculate_energy_consumption(speed, consumption_rate, distance_matrix)\n",
        "\n",
        "    # Boucle sur le nombre de générations\n",
        "    for generation in range(num_generations):\n",
        "        # Évaluer la population\n",
        "        energies, fitness_scores = evaluate_population(client_coordinates, speed, consumption_rate, population)\n",
        "\n",
        "        # Sélectionner les parents\n",
        "        parents = select_parents(population, num_parents)\n",
        "\n",
        "        # Effectuer le croisement\n",
        "        children = crossover(parents, crossover_rate)\n",
        "\n",
        "        # Effectuer la mutation\n",
        "        mutated_children = mutation(children, mutation_rate)\n",
        "\n",
        "        # Remplacer la population par les enfants mutés\n",
        "        population = mutated_children\n",
        "\n",
        "    # Évaluer la population finale\n",
        "    energies, fitness_scores = evaluate_population(client_coordinates, speed, consumption_rate, population)\n",
        "\n",
        "    # Trouver l'indice de l'individu avec le score de fitness minimum parmi les enfants mutés\n",
        "    best_index = fitness_scores.index(min(fitness_scores))\n",
        "\n",
        "    # Renvoyer le meilleur individu parmi les enfants mutés\n",
        "    return population[best_index]\n",
        "\n"
      ],
      "metadata": {
        "id": "pNtA4IOyr36c"
      },
      "execution_count": null,
      "outputs": []
    },
    {
      "cell_type": "markdown",
      "source": [
        "Affichage du meilleur individu"
      ],
      "metadata": {
        "id": "kCKsIs3p8B7R"
      }
    },
    {
      "cell_type": "code",
      "source": [
        "\n",
        "best_individual = execute_genetic_algorithm(clients, population_size, demands, capacity, num_parents, crossover_rate, mutation_rate, num_generations, speed, consumption_rate)\n",
        "print(\"Meilleur individu:\", best_individual)\n"
      ],
      "metadata": {
        "colab": {
          "base_uri": "https://localhost:8080/"
        },
        "id": "rV-Zx1var95j",
        "outputId": "0d9b0ee8-90ab-4f23-a05d-49b0fc0437fb"
      },
      "execution_count": null,
      "outputs": [
        {
          "output_type": "stream",
          "name": "stdout",
          "text": [
            "Temps d'exécution de crossover: 0.04410743713378906 millisecondes\n",
            "Temps d'exécution de crossover: 0.3352165222167969 millisecondes\n",
            "Temps d'exécution de crossover: 0.02956390380859375 millisecondes\n",
            "Temps d'exécution de crossover: 0.035762786865234375 millisecondes\n",
            "Temps d'exécution de crossover: 0.025272369384765625 millisecondes\n",
            "Temps d'exécution de crossover: 0.017881393432617188 millisecondes\n",
            "Temps d'exécution de crossover: 0.030517578125 millisecondes\n",
            "Temps d'exécution de crossover: 0.019073486328125 millisecondes\n",
            "Temps d'exécution de crossover: 0.011444091796875 millisecondes\n",
            "Temps d'exécution de crossover: 0.026702880859375 millisecondes\n",
            "Temps d'exécution de crossover: 0.022411346435546875 millisecondes\n",
            "Temps d'exécution de crossover: 0.019550323486328125 millisecondes\n",
            "Temps d'exécution de crossover: 0.0019073486328125 millisecondes\n",
            "Temps d'exécution de crossover: 0.010251998901367188 millisecondes\n",
            "Temps d'exécution de crossover: 0.016927719116210938 millisecondes\n",
            "Temps d'exécution de crossover: 0.016927719116210938 millisecondes\n",
            "Temps d'exécution de crossover: 0.017404556274414062 millisecondes\n",
            "Temps d'exécution de crossover: 0.015497207641601562 millisecondes\n",
            "Temps d'exécution de crossover: 0.016927719116210938 millisecondes\n",
            "Temps d'exécution de crossover: 0.0095367431640625 millisecondes\n",
            "Temps d'exécution de crossover: 0.027418136596679688 millisecondes\n",
            "Temps d'exécution de crossover: 0.01811981201171875 millisecondes\n",
            "Temps d'exécution de crossover: 0.015735626220703125 millisecondes\n",
            "Temps d'exécution de crossover: 0.018835067749023438 millisecondes\n",
            "Temps d'exécution de crossover: 0.009298324584960938 millisecondes\n",
            "Temps d'exécution de crossover: 0.009059906005859375 millisecondes\n",
            "Temps d'exécution de crossover: 0.009775161743164062 millisecondes\n",
            "Temps d'exécution de crossover: 0.04029273986816406 millisecondes\n",
            "Temps d'exécution de crossover: 0.016450881958007812 millisecondes\n",
            "Temps d'exécution de crossover: 0.016450881958007812 millisecondes\n",
            "Temps d'exécution de crossover: 0.0171661376953125 millisecondes\n",
            "Temps d'exécution de crossover: 0.015020370483398438 millisecondes\n",
            "Temps d'exécution de crossover: 0.034809112548828125 millisecondes\n",
            "Temps d'exécution de crossover: 0.025033950805664062 millisecondes\n",
            "Temps d'exécution de crossover: 0.011205673217773438 millisecondes\n",
            "Temps d'exécution de crossover: 0.010728836059570312 millisecondes\n",
            "Temps d'exécution de crossover: 0.016450881958007812 millisecondes\n",
            "Temps d'exécution de crossover: 0.031948089599609375 millisecondes\n",
            "Temps d'exécution de crossover: 0.011205673217773438 millisecondes\n",
            "Temps d'exécution de crossover: 0.010251998901367188 millisecondes\n",
            "Temps d'exécution de crossover: 0.010013580322265625 millisecondes\n",
            "Temps d'exécution de crossover: 0.01049041748046875 millisecondes\n",
            "Temps d'exécution de crossover: 0.009775161743164062 millisecondes\n",
            "Temps d'exécution de crossover: 0.015974044799804688 millisecondes\n",
            "Temps d'exécution de crossover: 0.0247955322265625 millisecondes\n",
            "Temps d'exécution de crossover: 0.017642974853515625 millisecondes\n",
            "Temps d'exécution de crossover: 0.016450881958007812 millisecondes\n",
            "Temps d'exécution de crossover: 0.0171661376953125 millisecondes\n",
            "Temps d'exécution de crossover: 0.01621246337890625 millisecondes\n",
            "Temps d'exécution de crossover: 0.01621246337890625 millisecondes\n",
            "Temps d'exécution de crossover: 0.0152587890625 millisecondes\n",
            "Temps d'exécution de crossover: 0.015497207641601562 millisecondes\n",
            "Temps d'exécution de crossover: 0.015735626220703125 millisecondes\n",
            "Temps d'exécution de crossover: 0.014781951904296875 millisecondes\n",
            "Temps d'exécution de crossover: 0.015735626220703125 millisecondes\n",
            "Temps d'exécution de crossover: 0.0095367431640625 millisecondes\n",
            "Temps d'exécution de crossover: 0.0095367431640625 millisecondes\n",
            "Temps d'exécution de crossover: 0.016450881958007812 millisecondes\n",
            "Temps d'exécution de crossover: 0.015020370483398438 millisecondes\n",
            "Temps d'exécution de crossover: 0.015974044799804688 millisecondes\n",
            "Temps d'exécution de crossover: 0.015974044799804688 millisecondes\n",
            "Temps d'exécution de crossover: 0.015974044799804688 millisecondes\n",
            "Temps d'exécution de crossover: 0.015020370483398438 millisecondes\n",
            "Temps d'exécution de crossover: 0.03647804260253906 millisecondes\n",
            "Temps d'exécution de crossover: 0.012159347534179688 millisecondes\n",
            "Temps d'exécution de crossover: 0.010728836059570312 millisecondes\n",
            "Temps d'exécution de crossover: 0.02574920654296875 millisecondes\n",
            "Temps d'exécution de crossover: 0.0171661376953125 millisecondes\n",
            "Temps d'exécution de crossover: 0.009775161743164062 millisecondes\n",
            "Temps d'exécution de crossover: 0.026464462280273438 millisecondes\n",
            "Temps d'exécution de crossover: 0.010013580322265625 millisecondes\n",
            "Temps d'exécution de crossover: 0.03170967102050781 millisecondes\n",
            "Temps d'exécution de crossover: 0.01811981201171875 millisecondes\n",
            "Temps d'exécution de crossover: 0.015974044799804688 millisecondes\n",
            "Temps d'exécution de crossover: 0.0171661376953125 millisecondes\n",
            "Temps d'exécution de crossover: 0.03600120544433594 millisecondes\n",
            "Temps d'exécution de crossover: 0.01621246337890625 millisecondes\n",
            "Temps d'exécution de crossover: 0.04100799560546875 millisecondes\n",
            "Temps d'exécution de crossover: 0.02384185791015625 millisecondes\n",
            "Temps d'exécution de crossover: 0.021457672119140625 millisecondes\n",
            "Temps d'exécution de crossover: 0.019311904907226562 millisecondes\n",
            "Temps d'exécution de crossover: 0.017881393432617188 millisecondes\n",
            "Temps d'exécution de crossover: 0.024080276489257812 millisecondes\n",
            "Temps d'exécution de crossover: 0.01621246337890625 millisecondes\n",
            "Temps d'exécution de crossover: 0.0171661376953125 millisecondes\n",
            "Temps d'exécution de crossover: 0.013828277587890625 millisecondes\n",
            "Temps d'exécution de crossover: 0.01049041748046875 millisecondes\n",
            "Temps d'exécution de crossover: 0.022649765014648438 millisecondes\n",
            "Temps d'exécution de crossover: 0.016689300537109375 millisecondes\n",
            "Temps d'exécution de crossover: 0.0152587890625 millisecondes\n",
            "Temps d'exécution de crossover: 0.010967254638671875 millisecondes\n",
            "Temps d'exécution de crossover: 0.016689300537109375 millisecondes\n",
            "Temps d'exécution de crossover: 0.01621246337890625 millisecondes\n",
            "Temps d'exécution de crossover: 0.015735626220703125 millisecondes\n",
            "Temps d'exécution de crossover: 0.009298324584960938 millisecondes\n",
            "Temps d'exécution de crossover: 0.025272369384765625 millisecondes\n",
            "Temps d'exécution de crossover: 0.015020370483398438 millisecondes\n",
            "Temps d'exécution de crossover: 0.015020370483398438 millisecondes\n",
            "Temps d'exécution de crossover: 0.0286102294921875 millisecondes\n",
            "Temps d'exécution de crossover: 0.8320808410644531 millisecondes\n",
            "Meilleur individu: [8, 7, 6, 5, 4, 2, 3, 9, 10, 1]\n"
          ]
        }
      ]
    },
    {
      "cell_type": "markdown",
      "source": [
        "Fonction de découdage du meilleur individu retourner par l'algorithme génétique et qui donne les routes avec leur distance, leur consommation d'enrgie"
      ],
      "metadata": {
        "id": "D9ixaS7s8oG9"
      }
    },
    {
      "cell_type": "code",
      "source": [
        "def decode_best_individual(best_individual, demands, capacity, distance_matrix, energy_matrix, k):\n",
        "    routes = []\n",
        "    current_route = [0]  # Commence chaque route par le dépôt\n",
        "    current_demand = 0\n",
        "    current_distance = 0\n",
        "    current_energy_consumption = 0\n",
        "\n",
        "    # Initialise la liste des clients non visités\n",
        "    unvisited_clients = set(best_individual)\n",
        "\n",
        "    # Parcours les clients du meilleur individu dans l'ordre\n",
        "    for client in best_individual:\n",
        "        # Si le client est déjà visité ou s'il s'agit du dépôt, passe au suivant\n",
        "        if client == 0 or client not in unvisited_clients:\n",
        "            continue\n",
        "\n",
        "        # Si ajouter le client ne viole pas les contraintes\n",
        "        if current_demand + demands[client - 1] <= capacity and len(current_route) <= k + 1:\n",
        "            current_route.append(client)\n",
        "            current_demand += demands[client - 1]\n",
        "            current_distance += distance_matrix[current_route[-2]][client]\n",
        "            current_energy_consumption += energy_matrix[current_route[-2]][client]\n",
        "            unvisited_clients.remove(client)\n",
        "        else:\n",
        "            # Termine la route actuelle et démarre une nouvelle route\n",
        "            current_route.append(0)  # Termine la route actuelle par le dépôt\n",
        "            current_distance += distance_matrix[current_route[-2]][0]\n",
        "            current_energy_consumption += energy_matrix[current_route[-2]][0]\n",
        "            routes.append((current_route, current_distance, current_energy_consumption))\n",
        "            current_route = [0, client]  # Démarre une nouvelle route avec le dépôt et le client\n",
        "            current_demand = demands[client - 1]\n",
        "            current_distance = distance_matrix[0][client]\n",
        "            current_energy_consumption = energy_matrix[0][client]\n",
        "            unvisited_clients.remove(client)\n",
        "\n",
        "    # Termine la dernière route\n",
        "    current_route.append(0)  # Termine la dernière route par le dépôt\n",
        "    current_distance += distance_matrix[current_route[-2]][0]\n",
        "    current_energy_consumption += energy_matrix[current_route[-2]][0]\n",
        "    routes.append((current_route, current_distance, current_energy_consumption))\n",
        "\n",
        "    return routes"
      ],
      "metadata": {
        "id": "y4czQjvIzGcd"
      },
      "execution_count": null,
      "outputs": []
    },
    {
      "cell_type": "markdown",
      "source": [
        "Affichage des routes"
      ],
      "metadata": {
        "id": "BMPlaoVU8tlo"
      }
    },
    {
      "cell_type": "code",
      "source": [
        "routes = decode_best_individual(best_individual, demands, capacity, distance_matrix, energy_matrix, k)\n",
        "total_distance = 0\n",
        "total_energy_consumption = 0\n",
        "\n",
        "for route, distance, energy_consumption in routes:\n",
        "    print(\"Route:\", route)\n",
        "    print(\"Distance:\", distance)\n",
        "    print(\"Energy Consumption:\", energy_consumption)\n",
        "    print()\n",
        "\n",
        "    total_distance += distance\n",
        "    total_energy_consumption += energy_consumption\n",
        "\n",
        "print(\"Total Distance:\", total_distance)\n",
        "print(\"Total Energy Consumption:\", total_energy_consumption)"
      ],
      "metadata": {
        "colab": {
          "base_uri": "https://localhost:8080/"
        },
        "id": "IuSdz-zPEIrv",
        "outputId": "807254f9-2beb-4a67-867f-0674c49d00a1"
      },
      "execution_count": null,
      "outputs": [
        {
          "output_type": "stream",
          "name": "stdout",
          "text": [
            "Route: [0, 8, 7, 6, 5, 0]\n",
            "Distance: 289.78297416902\n",
            "Energy Consumption: 0.36222871771127507\n",
            "\n",
            "Route: [0, 4, 2, 3, 9, 0]\n",
            "Distance: 310.34246475883043\n",
            "Energy Consumption: 0.38792808094853803\n",
            "\n",
            "Route: [0, 10, 1, 0]\n",
            "Distance: 141.43849395150102\n",
            "Energy Consumption: 0.17679811743937626\n",
            "\n",
            "Total Distance: 741.5639328793513\n",
            "Total Energy Consumption: 0.9269549160991893\n"
          ]
        }
      ]
    },
    {
      "cell_type": "markdown",
      "source": [
        "plot des routes"
      ],
      "metadata": {
        "id": "xhcyHOin81oM"
      }
    },
    {
      "cell_type": "code",
      "source": [
        "import matplotlib.pyplot as plt\n",
        "\n",
        "def plot_routes(routes, distance_matrix):\n",
        "    colors = ['b', 'g', 'r', 'c', 'm', 'y', 'k']  # Liste de couleurs prédéfinies\n",
        "\n",
        "    for i, (route, _, _) in enumerate(routes):\n",
        "        x_coords = []\n",
        "        y_coords = []\n",
        "        for client in route[:]:\n",
        "            x = client_coordinates[client][0]\n",
        "            y = client_coordinates[client][1]\n",
        "            x_coords.append(x)\n",
        "            y_coords.append(y)\n",
        "            plt.plot(x, y, marker='o', color=colors[i % len(colors)])  # Attribution de la couleur\n",
        "\n",
        "            plt.text(x, y, str(client), verticalalignment='bottom', horizontalalignment='right')\n",
        "\n",
        "        plt.plot(x_coords + [x_coords[0]], y_coords + [y_coords[0]], color=colors[i % len(colors)])\n",
        "\n",
        "    # Affichage du dépôt\n",
        "    depot_x = client_coordinates[0][0]\n",
        "    depot_y = client_coordinates[0][1]\n",
        "    plt.plot(depot_x, depot_y, marker='o', color='red', label='Dépôt')\n",
        "    plt.text(depot_x, depot_y, 'Dépôt', verticalalignment='bottom', horizontalalignment='right')\n",
        "\n",
        "    plt.xlabel('Coordonnée X')\n",
        "    plt.ylabel('Coordonnée Y')\n",
        "    plt.title('Routes')\n",
        "    plt.legend()\n",
        "    plt.grid(True)\n",
        "    plt.show()\n",
        "plot_routes(routes, distance_matrix)"
      ],
      "metadata": {
        "colab": {
          "base_uri": "https://localhost:8080/",
          "height": 472
        },
        "id": "Nl8dcmeHH9rI",
        "outputId": "8446e1ff-08b4-41c9-e5b6-24443b2366dc"
      },
      "execution_count": null,
      "outputs": [
        {
          "output_type": "display_data",
          "data": {
            "text/plain": [
              "<Figure size 640x480 with 1 Axes>"
            ],
            "image/png": "[encoded data removed]"
          },
          "metadata": {}
        }
      ]
    }
  ]
}